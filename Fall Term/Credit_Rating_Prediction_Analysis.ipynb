{
 "cells": [
  {
   "cell_type": "markdown",
   "id": "25bd27e5",
   "metadata": {},
   "source": [
    "# Logistic Regression Analysis for Credit Rating Prediction"
   ]
  },
  {
   "cell_type": "markdown",
   "id": "c1e4ba92",
   "metadata": {},
   "source": [
    "## Data Loading and Preprocessing"
   ]
  },
  {
   "cell_type": "code",
   "execution_count": 1,
   "id": "5d6c71ee",
   "metadata": {},
   "outputs": [],
   "source": [
    "\n",
    "import numpy as np\n",
    "import pandas as pd\n",
    "from sklearn.model_selection import train_test_split\n",
    "from sklearn.linear_model import LogisticRegression\n",
    "from sklearn.metrics import confusion_matrix, classification_report\n",
    "from sklearn.preprocessing import LabelEncoder\n",
    "\n",
    "data = pd.read_csv(r\"C:\\Users\\16479\\Downloads\\midterm_parttwo.csv\")\n",
    "\n",
    "label_encoders = {}\n",
    "for column in data.columns:\n",
    "    if data[column].dtype == 'object':\n",
    "        le = LabelEncoder()\n",
    "        data[column] = le.fit_transform(data[column])\n",
    "        label_encoders[column] = le\n",
    "        "
   ]
  },
  {
   "cell_type": "markdown",
   "id": "6dc3ed9d",
   "metadata": {},
   "source": [
    "## Model Training and Initial Evaluation"
   ]
  },
  {
   "cell_type": "code",
   "execution_count": 3,
   "id": "ea029836",
   "metadata": {},
   "outputs": [
    {
     "name": "stdout",
     "output_type": "stream",
     "text": [
      "[[   0  577]\n",
      " [   0 3464]]\n",
      "              precision    recall  f1-score   support\n",
      "\n",
      "           0       0.00      0.00      0.00       577\n",
      "           1       0.86      1.00      0.92      3464\n",
      "\n",
      "    accuracy                           0.86      4041\n",
      "   macro avg       0.43      0.50      0.46      4041\n",
      "weighted avg       0.73      0.86      0.79      4041\n",
      "\n"
     ]
    },
    {
     "name": "stderr",
     "output_type": "stream",
     "text": [
      "C:\\Users\\16479\\AppData\\Local\\Packages\\PythonSoftwareFoundation.Python.3.11_qbz5n2kfra8p0\\LocalCache\\local-packages\\Python311\\site-packages\\sklearn\\metrics\\_classification.py:1344: UndefinedMetricWarning: Precision and F-score are ill-defined and being set to 0.0 in labels with no predicted samples. Use `zero_division` parameter to control this behavior.\n",
      "  _warn_prf(average, modifier, msg_start, len(result))\n",
      "C:\\Users\\16479\\AppData\\Local\\Packages\\PythonSoftwareFoundation.Python.3.11_qbz5n2kfra8p0\\LocalCache\\local-packages\\Python311\\site-packages\\sklearn\\metrics\\_classification.py:1344: UndefinedMetricWarning: Precision and F-score are ill-defined and being set to 0.0 in labels with no predicted samples. Use `zero_division` parameter to control this behavior.\n",
      "  _warn_prf(average, modifier, msg_start, len(result))\n",
      "C:\\Users\\16479\\AppData\\Local\\Packages\\PythonSoftwareFoundation.Python.3.11_qbz5n2kfra8p0\\LocalCache\\local-packages\\Python311\\site-packages\\sklearn\\metrics\\_classification.py:1344: UndefinedMetricWarning: Precision and F-score are ill-defined and being set to 0.0 in labels with no predicted samples. Use `zero_division` parameter to control this behavior.\n",
      "  _warn_prf(average, modifier, msg_start, len(result))\n"
     ]
    }
   ],
   "source": [
    "X = data.drop('Credit Rating', axis=1)\n",
    "y = data['Credit Rating']\n",
    "X_train, X_test, y_train, y_test = train_test_split(X, y, test_size=0.5, random_state=42)\n",
    "\n",
    "model = LogisticRegression()\n",
    "model.fit(X_train, y_train)\n",
    "\n",
    "y_pred = model.predict(X_test)\n",
    "\n",
    "conf_matrix = confusion_matrix(y_test, y_pred)\n",
    "class_report = classification_report(y_test, y_pred)\n",
    "\n",
    "print(conf_matrix)\n",
    "print(class_report)\n",
    "        "
   ]
  },
  {
   "cell_type": "markdown",
   "id": "ebae1e72",
   "metadata": {},
   "source": [
    "## Adjusting for a More Challenging Credit Approval Process"
   ]
  },
  {
   "cell_type": "code",
   "execution_count": 4,
   "id": "183c0077",
   "metadata": {},
   "outputs": [
    {
     "name": "stdout",
     "output_type": "stream",
     "text": [
      "[[ 506   71]\n",
      " [2928  536]]\n",
      "              precision    recall  f1-score   support\n",
      "\n",
      "           0       0.15      0.88      0.25       577\n",
      "           1       0.88      0.15      0.26      3464\n",
      "\n",
      "    accuracy                           0.26      4041\n",
      "   macro avg       0.52      0.52      0.26      4041\n",
      "weighted avg       0.78      0.26      0.26      4041\n",
      "\n"
     ]
    }
   ],
   "source": [
    "y_pred_proba = model.predict_proba(X_test)[:, 1]  \n",
    "threshold_15 = np.percentile(y_pred_proba, 85) \n",
    "\n",
    "y_pred_15 = (y_pred_proba >= threshold_15).astype(int)\n",
    "\n",
    "conf_matrix_15 = confusion_matrix(y_test, y_pred_15)\n",
    "class_report_15 = classification_report(y_test, y_pred_15)\n",
    "\n",
    "print(conf_matrix_15)\n",
    "print(class_report_15)"
   ]
  }
 ],
 "metadata": {
  "kernelspec": {
   "display_name": "Python 3",
   "language": "python",
   "name": "python3"
  },
  "language_info": {
   "codemirror_mode": {
    "name": "ipython",
    "version": 3
   },
   "file_extension": ".py",
   "mimetype": "text/x-python",
   "name": "python",
   "nbconvert_exporter": "python",
   "pygments_lexer": "ipython3",
   "version": "3.11.6"
  }
 },
 "nbformat": 4,
 "nbformat_minor": 5
}
