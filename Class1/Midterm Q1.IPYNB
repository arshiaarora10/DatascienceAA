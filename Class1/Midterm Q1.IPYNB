{
 "cells": [
  {
   "cell_type": "code",
   "execution_count": 2,
   "metadata": {},
   "outputs": [
    {
     "name": "stdout",
     "output_type": "stream",
     "text": [
      "Collecting gurobipy\n",
      "  Downloading gurobipy-11.0.0-cp311-cp311-win_amd64.whl.metadata (16 kB)\n",
      "Downloading gurobipy-11.0.0-cp311-cp311-win_amd64.whl (10.2 MB)\n",
      "   ---------------------------------------- 0.0/10.2 MB ? eta -:--:--\n",
      "   ---------------------------------------- 0.0/10.2 MB 660.6 kB/s eta 0:00:16\n",
      "    --------------------------------------- 0.2/10.2 MB 2.5 MB/s eta 0:00:05\n",
      "   - -------------------------------------- 0.5/10.2 MB 3.9 MB/s eta 0:00:03\n",
      "   --- ------------------------------------ 0.8/10.2 MB 4.9 MB/s eta 0:00:02\n",
      "   ---- ----------------------------------- 1.1/10.2 MB 5.3 MB/s eta 0:00:02\n",
      "   ----- ---------------------------------- 1.4/10.2 MB 5.5 MB/s eta 0:00:02\n",
      "   ------ --------------------------------- 1.7/10.2 MB 6.0 MB/s eta 0:00:02\n",
      "   -------- ------------------------------- 2.1/10.2 MB 6.2 MB/s eta 0:00:02\n",
      "   --------- ------------------------------ 2.4/10.2 MB 6.4 MB/s eta 0:00:02\n",
      "   ---------- ----------------------------- 2.8/10.2 MB 6.6 MB/s eta 0:00:02\n",
      "   ----------- ---------------------------- 3.0/10.2 MB 6.5 MB/s eta 0:00:02\n",
      "   ------------- -------------------------- 3.4/10.2 MB 6.5 MB/s eta 0:00:02\n",
      "   -------------- ------------------------- 3.7/10.2 MB 6.3 MB/s eta 0:00:02\n",
      "   -------------- ------------------------- 3.7/10.2 MB 6.4 MB/s eta 0:00:02\n",
      "   --------------- ------------------------ 3.9/10.2 MB 5.9 MB/s eta 0:00:02\n",
      "   ---------------- ----------------------- 4.2/10.2 MB 5.9 MB/s eta 0:00:02\n",
      "   ----------------- ---------------------- 4.5/10.2 MB 6.1 MB/s eta 0:00:01\n",
      "   ------------------ --------------------- 4.8/10.2 MB 6.1 MB/s eta 0:00:01\n",
      "   -------------------- ------------------- 5.2/10.2 MB 6.1 MB/s eta 0:00:01\n",
      "   --------------------- ------------------ 5.5/10.2 MB 6.1 MB/s eta 0:00:01\n",
      "   ---------------------- ----------------- 5.8/10.2 MB 6.2 MB/s eta 0:00:01\n",
      "   ----------------------- ---------------- 6.1/10.2 MB 6.2 MB/s eta 0:00:01\n",
      "   ------------------------- -------------- 6.4/10.2 MB 6.2 MB/s eta 0:00:01\n",
      "   -------------------------- ------------- 6.7/10.2 MB 6.2 MB/s eta 0:00:01\n",
      "   --------------------------- ------------ 7.1/10.2 MB 6.2 MB/s eta 0:00:01\n",
      "   ---------------------------- ----------- 7.4/10.2 MB 6.3 MB/s eta 0:00:01\n",
      "   ------------------------------ --------- 7.7/10.2 MB 6.2 MB/s eta 0:00:01\n",
      "   ------------------------------- -------- 8.0/10.2 MB 6.3 MB/s eta 0:00:01\n",
      "   -------------------------------- ------- 8.3/10.2 MB 6.3 MB/s eta 0:00:01\n",
      "   --------------------------------- ------ 8.5/10.2 MB 6.2 MB/s eta 0:00:01\n",
      "   ---------------------------------- ----- 8.8/10.2 MB 6.2 MB/s eta 0:00:01\n",
      "   ----------------------------------- ---- 9.1/10.2 MB 6.3 MB/s eta 0:00:01\n",
      "   ------------------------------------ --- 9.2/10.2 MB 6.2 MB/s eta 0:00:01\n",
      "   ------------------------------------- -- 9.6/10.2 MB 6.2 MB/s eta 0:00:01\n",
      "   -------------------------------------- - 9.9/10.2 MB 6.2 MB/s eta 0:00:01\n",
      "   ---------------------------------------  10.2/10.2 MB 6.2 MB/s eta 0:00:01\n",
      "   ---------------------------------------  10.2/10.2 MB 6.2 MB/s eta 0:00:01\n",
      "   ---------------------------------------- 10.2/10.2 MB 6.0 MB/s eta 0:00:00\n",
      "Installing collected packages: gurobipy\n",
      "Successfully installed gurobipy-11.0.0\n",
      "Note: you may need to restart the kernel to use updated packages.\n"
     ]
    }
   ],
   "source": [
    "pip install gurobipy"
   ]
  },
  {
   "cell_type": "code",
   "execution_count": 3,
   "metadata": {},
   "outputs": [],
   "source": [
    "import numpy as np\n",
    "import pandas as pd"
   ]
  },
  {
   "cell_type": "code",
   "execution_count": 12,
   "metadata": {},
   "outputs": [],
   "source": [
    "nut_req= pd.read_csv(r\"C:\\Users\\16479\\Downloads\\nutrient_requirements.csv\")\n",
    "nut_con= pd.read_csv(r\"C:\\Users\\16479\\Downloads\\nutrient_content.csv\")\n",
    "food_pref= pd.read_csv(r\"C:\\Users\\16479\\Downloads\\food_preferences.csv\")\n",
    "food_cat= pd.read_csv(r\"C:\\Users\\16479\\Downloads\\food_categories.csv\")"
   ]
  },
  {
   "cell_type": "code",
   "execution_count": 6,
   "metadata": {},
   "outputs": [],
   "source": [
    "import gurobipy as gp\n",
    "from gurobipy import GRB"
   ]
  },
  {
   "cell_type": "code",
   "execution_count": 13,
   "metadata": {},
   "outputs": [],
   "source": [
    "model = gp.Model(\"OptiDiet\")"
   ]
  },
  {
   "cell_type": "code",
   "execution_count": 14,
   "metadata": {},
   "outputs": [],
   "source": [
    "food_vars = model.addVars(food_cat.Food_Item, name=\"foods\", lb=0, vtype=GRB.CONTINUOUS)"
   ]
  },
  {
   "cell_type": "code",
   "execution_count": 19,
   "metadata": {},
   "outputs": [
    {
     "data": {
      "text/plain": [
       "{'Food_1': <gurobi.Var *Awaiting Model Update*>,\n",
       " 'Food_2': <gurobi.Var *Awaiting Model Update*>,\n",
       " 'Food_3': <gurobi.Var *Awaiting Model Update*>,\n",
       " 'Food_4': <gurobi.Var *Awaiting Model Update*>,\n",
       " 'Food_5': <gurobi.Var *Awaiting Model Update*>,\n",
       " 'Food_6': <gurobi.Var *Awaiting Model Update*>,\n",
       " 'Food_7': <gurobi.Var *Awaiting Model Update*>,\n",
       " 'Food_8': <gurobi.Var *Awaiting Model Update*>,\n",
       " 'Food_9': <gurobi.Var *Awaiting Model Update*>,\n",
       " 'Food_10': <gurobi.Var *Awaiting Model Update*>,\n",
       " 'Food_11': <gurobi.Var *Awaiting Model Update*>,\n",
       " 'Food_12': <gurobi.Var *Awaiting Model Update*>,\n",
       " 'Food_13': <gurobi.Var *Awaiting Model Update*>,\n",
       " 'Food_14': <gurobi.Var *Awaiting Model Update*>,\n",
       " 'Food_15': <gurobi.Var *Awaiting Model Update*>,\n",
       " 'Food_16': <gurobi.Var *Awaiting Model Update*>,\n",
       " 'Food_17': <gurobi.Var *Awaiting Model Update*>,\n",
       " 'Food_18': <gurobi.Var *Awaiting Model Update*>,\n",
       " 'Food_19': <gurobi.Var *Awaiting Model Update*>,\n",
       " 'Food_20': <gurobi.Var *Awaiting Model Update*>,\n",
       " 'Food_21': <gurobi.Var *Awaiting Model Update*>,\n",
       " 'Food_22': <gurobi.Var *Awaiting Model Update*>,\n",
       " 'Food_23': <gurobi.Var *Awaiting Model Update*>,\n",
       " 'Food_24': <gurobi.Var *Awaiting Model Update*>,\n",
       " 'Food_25': <gurobi.Var *Awaiting Model Update*>,\n",
       " 'Food_26': <gurobi.Var *Awaiting Model Update*>,\n",
       " 'Food_27': <gurobi.Var *Awaiting Model Update*>,\n",
       " 'Food_28': <gurobi.Var *Awaiting Model Update*>,\n",
       " 'Food_29': <gurobi.Var *Awaiting Model Update*>,\n",
       " 'Food_30': <gurobi.Var *Awaiting Model Update*>,\n",
       " 'Food_31': <gurobi.Var *Awaiting Model Update*>,\n",
       " 'Food_32': <gurobi.Var *Awaiting Model Update*>,\n",
       " 'Food_33': <gurobi.Var *Awaiting Model Update*>,\n",
       " 'Food_34': <gurobi.Var *Awaiting Model Update*>,\n",
       " 'Food_35': <gurobi.Var *Awaiting Model Update*>,\n",
       " 'Food_36': <gurobi.Var *Awaiting Model Update*>,\n",
       " 'Food_37': <gurobi.Var *Awaiting Model Update*>,\n",
       " 'Food_38': <gurobi.Var *Awaiting Model Update*>,\n",
       " 'Food_39': <gurobi.Var *Awaiting Model Update*>,\n",
       " 'Food_40': <gurobi.Var *Awaiting Model Update*>,\n",
       " 'Food_41': <gurobi.Var *Awaiting Model Update*>,\n",
       " 'Food_42': <gurobi.Var *Awaiting Model Update*>,\n",
       " 'Food_43': <gurobi.Var *Awaiting Model Update*>,\n",
       " 'Food_44': <gurobi.Var *Awaiting Model Update*>,\n",
       " 'Food_45': <gurobi.Var *Awaiting Model Update*>,\n",
       " 'Food_46': <gurobi.Var *Awaiting Model Update*>,\n",
       " 'Food_47': <gurobi.Var *Awaiting Model Update*>,\n",
       " 'Food_48': <gurobi.Var *Awaiting Model Update*>,\n",
       " 'Food_49': <gurobi.Var *Awaiting Model Update*>,\n",
       " 'Food_50': <gurobi.Var *Awaiting Model Update*>,\n",
       " 'Food_51': <gurobi.Var *Awaiting Model Update*>,\n",
       " 'Food_52': <gurobi.Var *Awaiting Model Update*>,\n",
       " 'Food_53': <gurobi.Var *Awaiting Model Update*>,\n",
       " 'Food_54': <gurobi.Var *Awaiting Model Update*>,\n",
       " 'Food_55': <gurobi.Var *Awaiting Model Update*>,\n",
       " 'Food_56': <gurobi.Var *Awaiting Model Update*>,\n",
       " 'Food_57': <gurobi.Var *Awaiting Model Update*>,\n",
       " 'Food_58': <gurobi.Var *Awaiting Model Update*>,\n",
       " 'Food_59': <gurobi.Var *Awaiting Model Update*>,\n",
       " 'Food_60': <gurobi.Var *Awaiting Model Update*>,\n",
       " 'Food_61': <gurobi.Var *Awaiting Model Update*>,\n",
       " 'Food_62': <gurobi.Var *Awaiting Model Update*>,\n",
       " 'Food_63': <gurobi.Var *Awaiting Model Update*>,\n",
       " 'Food_64': <gurobi.Var *Awaiting Model Update*>,\n",
       " 'Food_65': <gurobi.Var *Awaiting Model Update*>,\n",
       " 'Food_66': <gurobi.Var *Awaiting Model Update*>,\n",
       " 'Food_67': <gurobi.Var *Awaiting Model Update*>,\n",
       " 'Food_68': <gurobi.Var *Awaiting Model Update*>,\n",
       " 'Food_69': <gurobi.Var *Awaiting Model Update*>,\n",
       " 'Food_70': <gurobi.Var *Awaiting Model Update*>,\n",
       " 'Food_71': <gurobi.Var *Awaiting Model Update*>,\n",
       " 'Food_72': <gurobi.Var *Awaiting Model Update*>,\n",
       " 'Food_73': <gurobi.Var *Awaiting Model Update*>,\n",
       " 'Food_74': <gurobi.Var *Awaiting Model Update*>,\n",
       " 'Food_75': <gurobi.Var *Awaiting Model Update*>,\n",
       " 'Food_76': <gurobi.Var *Awaiting Model Update*>,\n",
       " 'Food_77': <gurobi.Var *Awaiting Model Update*>,\n",
       " 'Food_78': <gurobi.Var *Awaiting Model Update*>,\n",
       " 'Food_79': <gurobi.Var *Awaiting Model Update*>,\n",
       " 'Food_80': <gurobi.Var *Awaiting Model Update*>,\n",
       " 'Food_81': <gurobi.Var *Awaiting Model Update*>,\n",
       " 'Food_82': <gurobi.Var *Awaiting Model Update*>,\n",
       " 'Food_83': <gurobi.Var *Awaiting Model Update*>,\n",
       " 'Food_84': <gurobi.Var *Awaiting Model Update*>,\n",
       " 'Food_85': <gurobi.Var *Awaiting Model Update*>,\n",
       " 'Food_86': <gurobi.Var *Awaiting Model Update*>,\n",
       " 'Food_87': <gurobi.Var *Awaiting Model Update*>,\n",
       " 'Food_88': <gurobi.Var *Awaiting Model Update*>,\n",
       " 'Food_89': <gurobi.Var *Awaiting Model Update*>,\n",
       " 'Food_90': <gurobi.Var *Awaiting Model Update*>,\n",
       " 'Food_91': <gurobi.Var *Awaiting Model Update*>,\n",
       " 'Food_92': <gurobi.Var *Awaiting Model Update*>,\n",
       " 'Food_93': <gurobi.Var *Awaiting Model Update*>,\n",
       " 'Food_94': <gurobi.Var *Awaiting Model Update*>,\n",
       " 'Food_95': <gurobi.Var *Awaiting Model Update*>,\n",
       " 'Food_96': <gurobi.Var *Awaiting Model Update*>,\n",
       " 'Food_97': <gurobi.Var *Awaiting Model Update*>,\n",
       " 'Food_98': <gurobi.Var *Awaiting Model Update*>,\n",
       " 'Food_99': <gurobi.Var *Awaiting Model Update*>,\n",
       " 'Food_100': <gurobi.Var *Awaiting Model Update*>,\n",
       " 'Food_101': <gurobi.Var *Awaiting Model Update*>,\n",
       " 'Food_102': <gurobi.Var *Awaiting Model Update*>,\n",
       " 'Food_103': <gurobi.Var *Awaiting Model Update*>,\n",
       " 'Food_104': <gurobi.Var *Awaiting Model Update*>,\n",
       " 'Food_105': <gurobi.Var *Awaiting Model Update*>,\n",
       " 'Food_106': <gurobi.Var *Awaiting Model Update*>,\n",
       " 'Food_107': <gurobi.Var *Awaiting Model Update*>,\n",
       " 'Food_108': <gurobi.Var *Awaiting Model Update*>,\n",
       " 'Food_109': <gurobi.Var *Awaiting Model Update*>,\n",
       " 'Food_110': <gurobi.Var *Awaiting Model Update*>,\n",
       " 'Food_111': <gurobi.Var *Awaiting Model Update*>,\n",
       " 'Food_112': <gurobi.Var *Awaiting Model Update*>,\n",
       " 'Food_113': <gurobi.Var *Awaiting Model Update*>,\n",
       " 'Food_114': <gurobi.Var *Awaiting Model Update*>,\n",
       " 'Food_115': <gurobi.Var *Awaiting Model Update*>,\n",
       " 'Food_116': <gurobi.Var *Awaiting Model Update*>,\n",
       " 'Food_117': <gurobi.Var *Awaiting Model Update*>,\n",
       " 'Food_118': <gurobi.Var *Awaiting Model Update*>,\n",
       " 'Food_119': <gurobi.Var *Awaiting Model Update*>,\n",
       " 'Food_120': <gurobi.Var *Awaiting Model Update*>}"
      ]
     },
     "execution_count": 19,
     "metadata": {},
     "output_type": "execute_result"
    }
   ],
   "source": [
    "food_vars"
   ]
  },
  {
   "cell_type": "code",
   "execution_count": 20,
   "metadata": {},
   "outputs": [],
   "source": [
    "# Nutrition Constraints\n",
    "for _, nutrient in nut_req.iterrows():\n",
    "    min_intake = nutrient['Min_Requirement']\n",
    "    max_intake = nutrient['Max_Requirement']\n",
    "    nutrient_name = nutrient['Nutrient']\n",
    "\n",
    "   \n",
    "    intake = gp.quicksum(nut_con.loc[nut_con['Food_Item'] == food, nutrient_name].item() * food_vars[food] \n",
    "                         for food in food_cat['Food_Item'])\n",
    "    \n",
    "    model.addRange(intake, min_intake, max_intake, f\"Nutrient_balance_{nutrient_name}\")"
   ]
  },
  {
   "cell_type": "code",
   "execution_count": 23,
   "metadata": {},
   "outputs": [
    {
     "data": {
      "text/plain": [
       "<gurobi.Constr *Awaiting Model Update*>"
      ]
     },
     "execution_count": 23,
     "metadata": {},
     "output_type": "execute_result"
    }
   ],
   "source": [
    "# Dietary Preferences Constraints\n",
    "total_dietary_needs = {\n",
    "    'Vegetarian': food_pref['Veggie_grams'].iloc[0],\n",
    "    'Vegan': food_pref['Vegan_grams'].iloc[0],\n",
    "    'Kosher': food_pref['Kosher_grams'].iloc[0],\n",
    "    'Halal': food_pref['Halal_grams'].iloc[0],\n",
    "    'All': food_pref['All_grams'].iloc[0]\n",
    "}\n",
    "\n",
    "# Ensure the total grams for Vegetarian, Vegan, Kosher, and Halal are satisfied\n",
    "for diet_type, total_grams in total_dietary_needs.items():\n",
    "    if diet_type != 'All': \n",
    "        food_items = food_cat[food_cat['Is_' + diet_type] == 1]['Food_Item']\n",
    "        model.addConstr(\n",
    "            gp.quicksum(food_vars[food] for food in food_items) >= total_grams,\n",
    "            f\"min_{diet_type}_grams\"\n",
    "        )\n",
    "\n",
    "# Ensure the total grams of all food items meet the 'All' dietary need\n",
    "model.addConstr(\n",
    "    gp.quicksum(food_vars[food] for food in food_cat['Food_Item']) == total_dietary_needs['All'],\n",
    "    \"total_all_grams\"\n",
    ")"
   ]
  },
  {
   "cell_type": "code",
   "execution_count": 24,
   "metadata": {},
   "outputs": [],
   "source": [
    "for food in food_cat.Food_Item:\n",
    "    model.addConstr(food_vars[food] <= 0.03 * gp.quicksum(food_vars[food] for food in food_cat.Food_Item), \"variety_%s\" % food)"
   ]
  },
  {
   "cell_type": "code",
   "execution_count": 25,
   "metadata": {},
   "outputs": [
    {
     "name": "stdout",
     "output_type": "stream",
     "text": [
      "Gurobi Optimizer version 11.0.0 build v11.0.0rc2 (win64 - Windows 11.0 (22621.2))\n",
      "\n",
      "CPU model: 12th Gen Intel(R) Core(TM) i7-12700H, instruction set [SSE2|AVX|AVX2]\n",
      "Thread count: 14 physical cores, 20 logical processors, using up to 20 threads\n",
      "\n",
      "Optimize a model with 429 rows, 180 columns and 50916 nonzeros\n",
      "Model fingerprint: 0x4bf393f6\n",
      "Coefficient statistics:\n",
      "  Matrix range     [1e-03, 1e+00]\n",
      "  Objective range  [5e-02, 2e-01]\n",
      "  Bounds range     [4e+03, 8e+03]\n",
      "  RHS range        [8e+03, 6e+05]\n",
      "Presolve removed 246 rows and 0 columns\n",
      "Presolve time: 0.02s\n",
      "Presolved: 183 rows, 180 columns, 21864 nonzeros\n",
      "\n",
      "Iteration    Objective       Primal Inf.    Dual Inf.      Time\n",
      "       0    2.9256393e+04   2.082249e+05   0.000000e+00      0s\n",
      "\n",
      "Solved in 189 iterations and 0.04 seconds (0.02 work units)\n",
      "Infeasible model\n"
     ]
    }
   ],
   "source": [
    "model.setObjective(gp.quicksum(food_vars[food] * food_cat.loc[food_cat['Food_Item'] == food, 'Cost_per_gram'].item() for food in food_cat.Food_Item), GRB.MINIMIZE)\n",
    "\n",
    "# Optimize the model\n",
    "model.optimize()"
   ]
  },
  {
   "cell_type": "code",
   "execution_count": 26,
   "metadata": {},
   "outputs": [
    {
     "name": "stdout",
     "output_type": "stream",
     "text": [
      "The number of constraints in the model (excluding non-negativity): 429\n"
     ]
    }
   ],
   "source": [
    "print(f\"The number of constraints in the model (excluding non-negativity): {model.NumConstrs}\")"
   ]
  }
 ],
 "metadata": {
  "kernelspec": {
   "display_name": "Python 3",
   "language": "python",
   "name": "python3"
  },
  "language_info": {
   "codemirror_mode": {
    "name": "ipython",
    "version": 3
   },
   "file_extension": ".py",
   "mimetype": "text/x-python",
   "name": "python",
   "nbconvert_exporter": "python",
   "pygments_lexer": "ipython3",
   "version": "3.11.8"
  }
 },
 "nbformat": 4,
 "nbformat_minor": 2
}
