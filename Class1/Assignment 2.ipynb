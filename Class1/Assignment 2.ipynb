{
 "cells": [
  {
   "cell_type": "code",
   "execution_count": 40,
   "metadata": {},
   "outputs": [],
   "source": [
    "#Importing libraries\n",
    "import numpy as np\n",
    "import pandas as pd\n",
    "import seaborn as sns\n",
    "import scipy.stats as stats\n",
    "import statsmodels.stats.proportion as sm_proportion"
   ]
  },
  {
   "cell_type": "code",
   "execution_count": 41,
   "metadata": {},
   "outputs": [
    {
     "data": {
      "text/html": [
       "<div>\n",
       "<style scoped>\n",
       "    .dataframe tbody tr th:only-of-type {\n",
       "        vertical-align: middle;\n",
       "    }\n",
       "\n",
       "    .dataframe tbody tr th {\n",
       "        vertical-align: top;\n",
       "    }\n",
       "\n",
       "    .dataframe thead th {\n",
       "        text-align: right;\n",
       "    }\n",
       "</style>\n",
       "<table border=\"1\" class=\"dataframe\">\n",
       "  <thead>\n",
       "    <tr style=\"text-align: right;\">\n",
       "      <th></th>\n",
       "      <th>Age</th>\n",
       "      <th>Location</th>\n",
       "      <th>Device</th>\n",
       "      <th>Variant</th>\n",
       "      <th>Time Spent</th>\n",
       "      <th>CTR</th>\n",
       "    </tr>\n",
       "    <tr>\n",
       "      <th>Unnamed: 0</th>\n",
       "      <th></th>\n",
       "      <th></th>\n",
       "      <th></th>\n",
       "      <th></th>\n",
       "      <th></th>\n",
       "      <th></th>\n",
       "    </tr>\n",
       "  </thead>\n",
       "  <tbody>\n",
       "    <tr>\n",
       "      <th>0</th>\n",
       "      <td>62</td>\n",
       "      <td>Location2</td>\n",
       "      <td>Device2</td>\n",
       "      <td>Control</td>\n",
       "      <td>13.928669</td>\n",
       "      <td>0.084776</td>\n",
       "    </tr>\n",
       "    <tr>\n",
       "      <th>1</th>\n",
       "      <td>18</td>\n",
       "      <td>Location1</td>\n",
       "      <td>Device1</td>\n",
       "      <td>Variant B</td>\n",
       "      <td>11.310518</td>\n",
       "      <td>0.096859</td>\n",
       "    </tr>\n",
       "    <tr>\n",
       "      <th>2</th>\n",
       "      <td>21</td>\n",
       "      <td>Location2</td>\n",
       "      <td>Device1</td>\n",
       "      <td>Variant B</td>\n",
       "      <td>24.842100</td>\n",
       "      <td>0.097630</td>\n",
       "    </tr>\n",
       "    <tr>\n",
       "      <th>3</th>\n",
       "      <td>21</td>\n",
       "      <td>Location1</td>\n",
       "      <td>Device3</td>\n",
       "      <td>Variant B</td>\n",
       "      <td>20.061300</td>\n",
       "      <td>0.109783</td>\n",
       "    </tr>\n",
       "    <tr>\n",
       "      <th>4</th>\n",
       "      <td>57</td>\n",
       "      <td>Location1</td>\n",
       "      <td>Device2</td>\n",
       "      <td>Variant B</td>\n",
       "      <td>34.495503</td>\n",
       "      <td>0.068579</td>\n",
       "    </tr>\n",
       "    <tr>\n",
       "      <th>...</th>\n",
       "      <td>...</td>\n",
       "      <td>...</td>\n",
       "      <td>...</td>\n",
       "      <td>...</td>\n",
       "      <td>...</td>\n",
       "      <td>...</td>\n",
       "    </tr>\n",
       "    <tr>\n",
       "      <th>995</th>\n",
       "      <td>39</td>\n",
       "      <td>Location2</td>\n",
       "      <td>Device2</td>\n",
       "      <td>Variant B</td>\n",
       "      <td>17.252030</td>\n",
       "      <td>0.092211</td>\n",
       "    </tr>\n",
       "    <tr>\n",
       "      <th>996</th>\n",
       "      <td>38</td>\n",
       "      <td>Location3</td>\n",
       "      <td>Device2</td>\n",
       "      <td>Control</td>\n",
       "      <td>30.075898</td>\n",
       "      <td>0.078151</td>\n",
       "    </tr>\n",
       "    <tr>\n",
       "      <th>997</th>\n",
       "      <td>60</td>\n",
       "      <td>Location2</td>\n",
       "      <td>Device3</td>\n",
       "      <td>Control</td>\n",
       "      <td>31.929223</td>\n",
       "      <td>0.125213</td>\n",
       "    </tr>\n",
       "    <tr>\n",
       "      <th>998</th>\n",
       "      <td>35</td>\n",
       "      <td>Location2</td>\n",
       "      <td>Device2</td>\n",
       "      <td>Variant B</td>\n",
       "      <td>14.680299</td>\n",
       "      <td>0.095423</td>\n",
       "    </tr>\n",
       "    <tr>\n",
       "      <th>999</th>\n",
       "      <td>55</td>\n",
       "      <td>Location1</td>\n",
       "      <td>Device1</td>\n",
       "      <td>Variant B</td>\n",
       "      <td>25.803169</td>\n",
       "      <td>0.166688</td>\n",
       "    </tr>\n",
       "  </tbody>\n",
       "</table>\n",
       "<p>1000 rows × 6 columns</p>\n",
       "</div>"
      ],
      "text/plain": [
       "            Age   Location   Device    Variant  Time Spent       CTR\n",
       "Unnamed: 0                                                          \n",
       "0            62  Location2  Device2    Control   13.928669  0.084776\n",
       "1            18  Location1  Device1  Variant B   11.310518  0.096859\n",
       "2            21  Location2  Device1  Variant B   24.842100  0.097630\n",
       "3            21  Location1  Device3  Variant B   20.061300  0.109783\n",
       "4            57  Location1  Device2  Variant B   34.495503  0.068579\n",
       "...         ...        ...      ...        ...         ...       ...\n",
       "995          39  Location2  Device2  Variant B   17.252030  0.092211\n",
       "996          38  Location3  Device2    Control   30.075898  0.078151\n",
       "997          60  Location2  Device3    Control   31.929223  0.125213\n",
       "998          35  Location2  Device2  Variant B   14.680299  0.095423\n",
       "999          55  Location1  Device1  Variant B   25.803169  0.166688\n",
       "\n",
       "[1000 rows x 6 columns]"
      ]
     },
     "execution_count": 41,
     "metadata": {},
     "output_type": "execute_result"
    }
   ],
   "source": [
    "#Reading in the data set\n",
    "df= pd.read_csv(r\"C:\\Users\\16479\\Downloads\\experiment_dataset.csv\")\n",
    "df.set_index('Unnamed: 0', inplace=True)\n",
    "df"
   ]
  },
  {
   "cell_type": "code",
   "execution_count": 42,
   "metadata": {},
   "outputs": [
    {
     "name": "stdout",
     "output_type": "stream",
     "text": [
      "<class 'pandas.core.frame.DataFrame'>\n",
      "Index: 1000 entries, 0 to 999\n",
      "Data columns (total 6 columns):\n",
      " #   Column      Non-Null Count  Dtype  \n",
      "---  ------      --------------  -----  \n",
      " 0   Age         1000 non-null   int64  \n",
      " 1   Location    1000 non-null   object \n",
      " 2   Device      1000 non-null   object \n",
      " 3   Variant     1000 non-null   object \n",
      " 4   Time Spent  1000 non-null   float64\n",
      " 5   CTR         1000 non-null   float64\n",
      "dtypes: float64(2), int64(1), object(3)\n",
      "memory usage: 54.7+ KB\n"
     ]
    }
   ],
   "source": [
    "#Initial look through for data\n",
    "df.info()"
   ]
  },
  {
   "cell_type": "code",
   "execution_count": 43,
   "metadata": {},
   "outputs": [
    {
     "data": {
      "text/html": [
       "<div>\n",
       "<style scoped>\n",
       "    .dataframe tbody tr th:only-of-type {\n",
       "        vertical-align: middle;\n",
       "    }\n",
       "\n",
       "    .dataframe tbody tr th {\n",
       "        vertical-align: top;\n",
       "    }\n",
       "\n",
       "    .dataframe thead th {\n",
       "        text-align: right;\n",
       "    }\n",
       "</style>\n",
       "<table border=\"1\" class=\"dataframe\">\n",
       "  <thead>\n",
       "    <tr style=\"text-align: right;\">\n",
       "      <th></th>\n",
       "      <th>Age</th>\n",
       "      <th>Time Spent</th>\n",
       "      <th>CTR</th>\n",
       "    </tr>\n",
       "  </thead>\n",
       "  <tbody>\n",
       "    <tr>\n",
       "      <th>count</th>\n",
       "      <td>1000.000000</td>\n",
       "      <td>1000.000000</td>\n",
       "      <td>1000.000000</td>\n",
       "    </tr>\n",
       "    <tr>\n",
       "      <th>mean</th>\n",
       "      <td>40.715000</td>\n",
       "      <td>22.713345</td>\n",
       "      <td>0.109145</td>\n",
       "    </tr>\n",
       "    <tr>\n",
       "      <th>std</th>\n",
       "      <td>13.655557</td>\n",
       "      <td>5.479292</td>\n",
       "      <td>0.022366</td>\n",
       "    </tr>\n",
       "    <tr>\n",
       "      <th>min</th>\n",
       "      <td>18.000000</td>\n",
       "      <td>7.114806</td>\n",
       "      <td>0.012975</td>\n",
       "    </tr>\n",
       "    <tr>\n",
       "      <th>25%</th>\n",
       "      <td>28.000000</td>\n",
       "      <td>19.216608</td>\n",
       "      <td>0.094286</td>\n",
       "    </tr>\n",
       "    <tr>\n",
       "      <th>50%</th>\n",
       "      <td>41.000000</td>\n",
       "      <td>22.506707</td>\n",
       "      <td>0.108944</td>\n",
       "    </tr>\n",
       "    <tr>\n",
       "      <th>75%</th>\n",
       "      <td>53.000000</td>\n",
       "      <td>26.255950</td>\n",
       "      <td>0.124238</td>\n",
       "    </tr>\n",
       "    <tr>\n",
       "      <th>max</th>\n",
       "      <td>64.000000</td>\n",
       "      <td>39.395770</td>\n",
       "      <td>0.172728</td>\n",
       "    </tr>\n",
       "  </tbody>\n",
       "</table>\n",
       "</div>"
      ],
      "text/plain": [
       "               Age   Time Spent          CTR\n",
       "count  1000.000000  1000.000000  1000.000000\n",
       "mean     40.715000    22.713345     0.109145\n",
       "std      13.655557     5.479292     0.022366\n",
       "min      18.000000     7.114806     0.012975\n",
       "25%      28.000000    19.216608     0.094286\n",
       "50%      41.000000    22.506707     0.108944\n",
       "75%      53.000000    26.255950     0.124238\n",
       "max      64.000000    39.395770     0.172728"
      ]
     },
     "execution_count": 43,
     "metadata": {},
     "output_type": "execute_result"
    }
   ],
   "source": [
    "df.describe()"
   ]
  },
  {
   "cell_type": "code",
   "execution_count": 44,
   "metadata": {},
   "outputs": [
    {
     "data": {
      "text/html": [
       "<div>\n",
       "<style scoped>\n",
       "    .dataframe tbody tr th:only-of-type {\n",
       "        vertical-align: middle;\n",
       "    }\n",
       "\n",
       "    .dataframe tbody tr th {\n",
       "        vertical-align: top;\n",
       "    }\n",
       "\n",
       "    .dataframe thead th {\n",
       "        text-align: right;\n",
       "    }\n",
       "</style>\n",
       "<table border=\"1\" class=\"dataframe\">\n",
       "  <thead>\n",
       "    <tr style=\"text-align: right;\">\n",
       "      <th></th>\n",
       "      <th>CTR</th>\n",
       "      <th>Time Spent</th>\n",
       "    </tr>\n",
       "    <tr>\n",
       "      <th>Variant</th>\n",
       "      <th></th>\n",
       "      <th></th>\n",
       "    </tr>\n",
       "  </thead>\n",
       "  <tbody>\n",
       "    <tr>\n",
       "      <th>Control</th>\n",
       "      <td>0.098554</td>\n",
       "      <td>20.070781</td>\n",
       "    </tr>\n",
       "    <tr>\n",
       "      <th>Variant A</th>\n",
       "      <td>0.120269</td>\n",
       "      <td>24.805547</td>\n",
       "    </tr>\n",
       "    <tr>\n",
       "      <th>Variant B</th>\n",
       "      <td>0.108933</td>\n",
       "      <td>23.343783</td>\n",
       "    </tr>\n",
       "  </tbody>\n",
       "</table>\n",
       "</div>"
      ],
      "text/plain": [
       "                CTR  Time Spent\n",
       "Variant                        \n",
       "Control    0.098554   20.070781\n",
       "Variant A  0.120269   24.805547\n",
       "Variant B  0.108933   23.343783"
      ]
     },
     "execution_count": 44,
     "metadata": {},
     "output_type": "execute_result"
    }
   ],
   "source": [
    "#Calculating the mean across variants\n",
    "df.groupby('Variant')[['CTR','Time Spent']].mean()"
   ]
  },
  {
   "cell_type": "code",
   "execution_count": 45,
   "metadata": {},
   "outputs": [
    {
     "name": "stdout",
     "output_type": "stream",
     "text": [
      "F_onewayResult(statistic=0.053578839670573676, pvalue=0.9478339402848069)\n"
     ]
    }
   ],
   "source": [
    "# Testing for p value across Location and time spent\n",
    "loc_1 = df[df['Location'] == 'Location1']['Time Spent']\n",
    "loc_2 = df[df['Location'] == 'Location2']['Time Spent']\n",
    "loc_3 = df[df['Location'] == 'Location3']['Time Spent']\n",
    "\n",
    "p_val = stats.f_oneway(loc_1, loc_2, loc_3)\n",
    "print(p_val)"
   ]
  },
  {
   "cell_type": "code",
   "execution_count": 46,
   "metadata": {},
   "outputs": [
    {
     "name": "stdout",
     "output_type": "stream",
     "text": [
      "F_onewayResult(statistic=0.5792245145655729, pvalue=0.5605211716238133)\n"
     ]
    }
   ],
   "source": [
    "# Testing for p value across Location and CTR\n",
    "loc_1 = df[df['Location'] == 'Location1']['CTR']\n",
    "loc_2 = df[df['Location'] == 'Location2']['CTR']\n",
    "loc_3 = df[df['Location'] == 'Location3']['CTR']\n",
    "\n",
    "p_val = stats.f_oneway(loc_1, loc_2, loc_3)\n",
    "print(p_val)"
   ]
  },
  {
   "cell_type": "code",
   "execution_count": 47,
   "metadata": {},
   "outputs": [
    {
     "name": "stdout",
     "output_type": "stream",
     "text": [
      "F_onewayResult(statistic=0.26645371811833884, pvalue=0.7661459958744103)\n"
     ]
    }
   ],
   "source": [
    "#Similar tests for Devices\n",
    "dev_1 = df[df['Device'] == 'Device1']['Time Spent']\n",
    "dev_2 = df[df['Device'] == 'Device2']['Time Spent']\n",
    "dev_3 = df[df['Device'] == 'Device3']['Time Spent']\n",
    "\n",
    "p_val = stats.f_oneway(dev_1, dev_2, dev_3)\n",
    "print(p_val)"
   ]
  },
  {
   "cell_type": "code",
   "execution_count": 48,
   "metadata": {},
   "outputs": [
    {
     "name": "stdout",
     "output_type": "stream",
     "text": [
      "F_onewayResult(statistic=0.7105872492654717, pvalue=0.4916042399968955)\n"
     ]
    }
   ],
   "source": [
    "dev_1 = df[df['Device'] == 'Device1']['CTR']\n",
    "dev_2 = df[df['Device'] == 'Device2']['CTR']\n",
    "dev_3 = df[df['Device'] == 'Device3']['CTR']\n",
    "\n",
    "p_val = stats.f_oneway(dev_1, dev_2, dev_3)\n",
    "print(p_val)"
   ]
  },
  {
   "cell_type": "code",
   "execution_count": 49,
   "metadata": {},
   "outputs": [
    {
     "data": {
      "text/html": [
       "<div>\n",
       "<style scoped>\n",
       "    .dataframe tbody tr th:only-of-type {\n",
       "        vertical-align: middle;\n",
       "    }\n",
       "\n",
       "    .dataframe tbody tr th {\n",
       "        vertical-align: top;\n",
       "    }\n",
       "\n",
       "    .dataframe thead th {\n",
       "        text-align: right;\n",
       "    }\n",
       "</style>\n",
       "<table border=\"1\" class=\"dataframe\">\n",
       "  <thead>\n",
       "    <tr style=\"text-align: right;\">\n",
       "      <th></th>\n",
       "      <th>Age</th>\n",
       "      <th>Location</th>\n",
       "      <th>Device</th>\n",
       "      <th>Variant</th>\n",
       "      <th>Time Spent</th>\n",
       "      <th>CTR</th>\n",
       "      <th>Age Group</th>\n",
       "    </tr>\n",
       "    <tr>\n",
       "      <th>Unnamed: 0</th>\n",
       "      <th></th>\n",
       "      <th></th>\n",
       "      <th></th>\n",
       "      <th></th>\n",
       "      <th></th>\n",
       "      <th></th>\n",
       "      <th></th>\n",
       "    </tr>\n",
       "  </thead>\n",
       "  <tbody>\n",
       "    <tr>\n",
       "      <th>0</th>\n",
       "      <td>62</td>\n",
       "      <td>Location2</td>\n",
       "      <td>Device2</td>\n",
       "      <td>Control</td>\n",
       "      <td>13.928669</td>\n",
       "      <td>0.084776</td>\n",
       "      <td>50-64</td>\n",
       "    </tr>\n",
       "    <tr>\n",
       "      <th>1</th>\n",
       "      <td>18</td>\n",
       "      <td>Location1</td>\n",
       "      <td>Device1</td>\n",
       "      <td>Variant B</td>\n",
       "      <td>11.310518</td>\n",
       "      <td>0.096859</td>\n",
       "      <td>18-30</td>\n",
       "    </tr>\n",
       "    <tr>\n",
       "      <th>2</th>\n",
       "      <td>21</td>\n",
       "      <td>Location2</td>\n",
       "      <td>Device1</td>\n",
       "      <td>Variant B</td>\n",
       "      <td>24.842100</td>\n",
       "      <td>0.097630</td>\n",
       "      <td>18-30</td>\n",
       "    </tr>\n",
       "    <tr>\n",
       "      <th>3</th>\n",
       "      <td>21</td>\n",
       "      <td>Location1</td>\n",
       "      <td>Device3</td>\n",
       "      <td>Variant B</td>\n",
       "      <td>20.061300</td>\n",
       "      <td>0.109783</td>\n",
       "      <td>18-30</td>\n",
       "    </tr>\n",
       "    <tr>\n",
       "      <th>4</th>\n",
       "      <td>57</td>\n",
       "      <td>Location1</td>\n",
       "      <td>Device2</td>\n",
       "      <td>Variant B</td>\n",
       "      <td>34.495503</td>\n",
       "      <td>0.068579</td>\n",
       "      <td>50-64</td>\n",
       "    </tr>\n",
       "    <tr>\n",
       "      <th>...</th>\n",
       "      <td>...</td>\n",
       "      <td>...</td>\n",
       "      <td>...</td>\n",
       "      <td>...</td>\n",
       "      <td>...</td>\n",
       "      <td>...</td>\n",
       "      <td>...</td>\n",
       "    </tr>\n",
       "    <tr>\n",
       "      <th>995</th>\n",
       "      <td>39</td>\n",
       "      <td>Location2</td>\n",
       "      <td>Device2</td>\n",
       "      <td>Variant B</td>\n",
       "      <td>17.252030</td>\n",
       "      <td>0.092211</td>\n",
       "      <td>30-40</td>\n",
       "    </tr>\n",
       "    <tr>\n",
       "      <th>996</th>\n",
       "      <td>38</td>\n",
       "      <td>Location3</td>\n",
       "      <td>Device2</td>\n",
       "      <td>Control</td>\n",
       "      <td>30.075898</td>\n",
       "      <td>0.078151</td>\n",
       "      <td>30-40</td>\n",
       "    </tr>\n",
       "    <tr>\n",
       "      <th>997</th>\n",
       "      <td>60</td>\n",
       "      <td>Location2</td>\n",
       "      <td>Device3</td>\n",
       "      <td>Control</td>\n",
       "      <td>31.929223</td>\n",
       "      <td>0.125213</td>\n",
       "      <td>50-64</td>\n",
       "    </tr>\n",
       "    <tr>\n",
       "      <th>998</th>\n",
       "      <td>35</td>\n",
       "      <td>Location2</td>\n",
       "      <td>Device2</td>\n",
       "      <td>Variant B</td>\n",
       "      <td>14.680299</td>\n",
       "      <td>0.095423</td>\n",
       "      <td>30-40</td>\n",
       "    </tr>\n",
       "    <tr>\n",
       "      <th>999</th>\n",
       "      <td>55</td>\n",
       "      <td>Location1</td>\n",
       "      <td>Device1</td>\n",
       "      <td>Variant B</td>\n",
       "      <td>25.803169</td>\n",
       "      <td>0.166688</td>\n",
       "      <td>50-64</td>\n",
       "    </tr>\n",
       "  </tbody>\n",
       "</table>\n",
       "<p>1000 rows × 7 columns</p>\n",
       "</div>"
      ],
      "text/plain": [
       "            Age   Location   Device    Variant  Time Spent       CTR Age Group\n",
       "Unnamed: 0                                                                    \n",
       "0            62  Location2  Device2    Control   13.928669  0.084776     50-64\n",
       "1            18  Location1  Device1  Variant B   11.310518  0.096859     18-30\n",
       "2            21  Location2  Device1  Variant B   24.842100  0.097630     18-30\n",
       "3            21  Location1  Device3  Variant B   20.061300  0.109783     18-30\n",
       "4            57  Location1  Device2  Variant B   34.495503  0.068579     50-64\n",
       "...         ...        ...      ...        ...         ...       ...       ...\n",
       "995          39  Location2  Device2  Variant B   17.252030  0.092211     30-40\n",
       "996          38  Location3  Device2    Control   30.075898  0.078151     30-40\n",
       "997          60  Location2  Device3    Control   31.929223  0.125213     50-64\n",
       "998          35  Location2  Device2  Variant B   14.680299  0.095423     30-40\n",
       "999          55  Location1  Device1  Variant B   25.803169  0.166688     50-64\n",
       "\n",
       "[1000 rows x 7 columns]"
      ]
     },
     "execution_count": 49,
     "metadata": {},
     "output_type": "execute_result"
    }
   ],
   "source": [
    "#Creating age groups from column Age and then testing p value on the age groups\n",
    "age_bins = [18, 30, 40, 50, 64]\n",
    "age_labels = ['18-30', '30-40', '40-50', '50-64']\n",
    "df['Age Group'] = pd.cut(df['Age'], bins=age_bins, labels=age_labels, right=False)\n",
    "df"
   ]
  },
  {
   "cell_type": "code",
   "execution_count": 50,
   "metadata": {},
   "outputs": [
    {
     "name": "stdout",
     "output_type": "stream",
     "text": [
      "F_onewayResult(statistic=1.4450281705829764, pvalue=0.22818584057885086)\n"
     ]
    }
   ],
   "source": [
    "age_1 = df[df['Age Group'] == '18-30']['CTR']\n",
    "age_2 = df[df['Age Group'] == '30-40']['CTR']\n",
    "age_3 = df[df['Age Group'] == '40-50']['CTR']\n",
    "age_4 = df[df['Age Group'] == '50-64']['CTR']\n",
    "\n",
    "p_val = stats.f_oneway(age_1, age_2, age_3,age_4)\n",
    "print(p_val)"
   ]
  },
  {
   "cell_type": "code",
   "execution_count": 51,
   "metadata": {},
   "outputs": [
    {
     "name": "stdout",
     "output_type": "stream",
     "text": [
      "F_onewayResult(statistic=0.315806959923395, pvalue=0.8139654099433988)\n"
     ]
    }
   ],
   "source": [
    "age_1 = df[df['Age Group'] == '18-30']['Time Spent']\n",
    "age_2 = df[df['Age Group'] == '30-40']['Time Spent']\n",
    "age_3 = df[df['Age Group'] == '40-50']['Time Spent']\n",
    "age_4 = df[df['Age Group'] == '50-64']['Time Spent']\n",
    "\n",
    "p_val = stats.f_oneway(age_1, age_2, age_3,age_4)\n",
    "print(p_val)"
   ]
  },
  {
   "cell_type": "code",
   "execution_count": 52,
   "metadata": {},
   "outputs": [
    {
     "name": "stdout",
     "output_type": "stream",
     "text": [
      "P-value A: 8.488565644996449e-31\n",
      "P-value B: 1.496358076285182e-15\n",
      "P-value AB: 0.0002534771014765265\n"
     ]
    }
   ],
   "source": [
    "#Calculating p value by comparing Variants to control based on Time spent and CTR\n",
    "Timespent_A = df[df['Variant'] == 'Variant A']['Time Spent']\n",
    "Timespent_B = df[df['Variant'] == 'Variant B']['Time Spent']\n",
    "Timespent_C = df[df['Variant'] == 'Control']['Time Spent']\n",
    "\n",
    "t_statA, p_valA = stats.ttest_ind(Timespent_A, Timespent_C)\n",
    "\n",
    "t_statB, p_valB = stats.ttest_ind(Timespent_B, Timespent_C)\n",
    "\n",
    "\n",
    "t_statAB, p_valAB = stats.ttest_ind(Timespent_A, Timespent_B)\n",
    "\n",
    "print(f\"P-value A: {p_valA}\")\n",
    "\n",
    "print(f\"P-value B: {p_valB}\")\n",
    "\n",
    "print(f\"P-value AB: {p_valAB}\")\n"
   ]
  },
  {
   "cell_type": "code",
   "execution_count": 53,
   "metadata": {},
   "outputs": [
    {
     "name": "stdout",
     "output_type": "stream",
     "text": [
      "P-value A: 1.9602781373243157e-38\n",
      "P-value B: 1.8743198199982106e-10\n",
      "P-value AB: 3.587180487986577e-12\n"
     ]
    }
   ],
   "source": [
    "CTR_A = df[df['Variant'] == 'Variant A']['CTR']\n",
    "CTR_B = df[df['Variant'] == 'Variant B']['CTR']\n",
    "CTR_C = df[df['Variant'] == 'Control']['CTR']\n",
    "\n",
    "t_statA, p_valA = stats.ttest_ind(CTR_A,CTR_C)\n",
    "\n",
    "t_statB, p_valB = stats.ttest_ind(CTR_B,CTR_C)\n",
    "\n",
    "t_statAB, p_valAB = stats.ttest_ind(CTR_A,CTR_B)\n",
    "\n",
    "print(f\"P-value A: {p_valA}\")\n",
    "\n",
    "print(f\"P-value B: {p_valB}\")\n",
    "\n",
    "print(f\"P-value AB: {p_valAB}\")"
   ]
  },
  {
   "cell_type": "code",
   "execution_count": 54,
   "metadata": {},
   "outputs": [
    {
     "data": {
      "text/plain": [
       "<seaborn.axisgrid.FacetGrid at 0x1d8839a17d0>"
      ]
     },
     "execution_count": 54,
     "metadata": {},
     "output_type": "execute_result"
    },
    {
     "data": {
      "image/png": "[encoded data removed]",
      "text/plain": [
       "<Figure size 613.5x500 with 1 Axes>"
      ]
     },
     "metadata": {},
     "output_type": "display_data"
    }
   ],
   "source": [
    "sns.lmplot(data = df, x='Time Spent', y='CTR', hue = 'Variant')"
   ]
  },
  {
   "cell_type": "code",
   "execution_count": 55,
   "metadata": {},
   "outputs": [
    {
     "name": "stdout",
     "output_type": "stream",
     "text": [
      "P-value A: 0.36768468316739134\n",
      "P-value B: 0.659493822517278\n"
     ]
    }
   ],
   "source": [
    "#Conducting z-test to see if that impacts the hypotheses\n",
    "CTR_A = df[df['Variant'] == 'Variant A']['CTR']\n",
    "CTR_B = df[df['Variant'] == 'Variant B']['CTR']\n",
    "CTR_C = df[df['Variant'] == 'Control']['CTR']\n",
    "\n",
    "statistic, p_valA = sm_proportion.proportions_ztest([CTR_A.sum(), CTR_C.sum()],[len(CTR_A), len(CTR_C)])\n",
    "\n",
    "print(f\"P-value A: {p_valA}\")\n",
    "\n",
    "statistic, p_valB = sm_proportion.proportions_ztest([CTR_B.sum(), CTR_C.sum()],[len(CTR_B), len(CTR_C)])\n",
    "\n",
    "print(f\"P-value B: {p_valB}\")"
   ]
  },
  {
   "cell_type": "code",
   "execution_count": 57,
   "metadata": {},
   "outputs": [
    {
     "name": "stdout",
     "output_type": "stream",
     "text": [
      "P-value A (Location A): 0.8997486126132964\n",
      "P-value A (Location B): 0.8492052106792263\n",
      "P-value A (Location C): 0.7365889866711038\n"
     ]
    }
   ],
   "source": [
    "#Conducting test to see how location performs across Variant A\n",
    "Timespent_A = df[df['Variant'] == 'Variant A']['Time Spent']\n",
    "Timespent_A_location_1 = df[(df['Variant'] == 'Variant A') & (df['Location'] == 'Location1')]['Time Spent']\n",
    "Timespent_A_location_2 = df[(df['Variant'] == 'Variant A') & (df['Location'] == 'Location2')]['Time Spent']\n",
    "Timespent_A_location_3 = df[(df['Variant'] == 'Variant A') & (df['Location'] == 'Location3')]['Time Spent']\n",
    "\n",
    "t_statA_location_A, p_valA_location_1 = stats.ttest_ind(Timespent_A_location_1, Timespent_A)\n",
    "t_statA_location_B, p_valA_location_2 = stats.ttest_ind(Timespent_A_location_2, Timespent_A)\n",
    "t_statA_location_C, p_valA_location_3 = stats.ttest_ind(Timespent_A_location_3, Timespent_A)\n",
    "\n",
    "print(f\"P-value A (Location A): {p_valA_location_1}\")\n",
    "print(f\"P-value A (Location B): {p_valA_location_2}\")\n",
    "print(f\"P-value A (Location C): {p_valA_location_3}\")"
   ]
  },
  {
   "attachments": {},
   "cell_type": "markdown",
   "metadata": {},
   "source": [
    "1. Analyze the results to determine which feature (if any) results in CTR or Time Spent lift.\n",
    "\n",
    "    Based on the average Time Spent and average CTR of control, A and B; it looks like Variant A has slightly higher lift wrt Control as compared to Variant B. This is not a significant difference, and is not conclusive enough to choose A over B, other factors must be considered using statistical testing.\n",
    "\n",
    "2. Conduct statistical testing to determine if there is a statistically significant difference between the features and the control group.\n",
    "\n",
    "    Tests conducted to calculate p-value: Z-Test and T-test.\n",
    "\n",
    "    A few null hypotheses were considered:\n",
    "\n",
    "        1.Mean Time Spent is similar across all locations\n",
    "\n",
    "        2.Mean CTR is similar across all locations\n",
    "\n",
    "        3.Mean Time Spent is similar across all devices\n",
    "        \n",
    "        4.Mean CTR is similar across all devices\n",
    "    However, due to the Fstat value being close to 0 and p value>0.05, the null hypothesis can not be rejected, and hence evaluating on Variants is not affected by location or device\n",
    "\n",
    "    Minimum age 18 to maximum age 64 were grouped, and null hypothesis that the mean CTR or Time Spent would vary across ages was considered. However, similar results were observed for different age groups too.\n",
    "\n",
    "    Now, we can test only on Variants, based on CTR and Time Spent.\n",
    "\n",
    "3. Summarize your results. Make a recommendation to the engineering team about which feature to deploy. \n",
    "\n",
    "    Based on the statistical testing,\n",
    "\n",
    "    1. The results indicate that there are significant differences in \"Time Spent\" between each variant (A and B) and the Control group. The p-values for Variant A and Variant B compared to the Control group are extremely low.\n",
    "    \n",
    "    2. Same results were observed for CTR.\n",
    "\n",
    "    Both Variant A and B showed statistical difference from the Control, and have a higher mean as compared to the Control. We also compared  A and B to see if there is a statistical difference, and based on low P-value, there is a difference.\n",
    "\n",
    "    Now, in both CTR and Time Spent, A had a lower p-value when compared with Control (even though by a margin when compared to B and Control), and a higher mean across both variables.\n",
    "\n",
    "    Solely based on the current data, conclusion can be drawn that Variant A is the better of the 2 and can be deployed.\n",
    "\n",
    "4. Create a roll-out plan. How quickly will you introduce the feature to your audience?\n",
    "\n",
    "    If we plan to go ahead with Variant A, we need to see the results against other factors as well- organization goals, interface changes etc.\n",
    "    Testing similar to the one done for comparing locations with Variant A, need to be done (this one shows no significant difference between locations, so maybe external factors need to be considered)\n",
    "\n",
    "    Since the data given to check for the experiment was limited, tests can be conducted on the larger data set to confirm that Variant A is indeed performing better.\n",
    "\n",
    "    The recommendation would be to do a gradual rollout considering Variant B was not far behind in terms of performance, so external factors might be in play. This helps to mitigate risk and collect feedback.\n",
    "\n",
    "    This feedback can be used to make iterative changes to make Variant A perform even better, ensuring it is meeting user expectations, and has an impact on conversion rates.\n",
    "\n",
    "    Once the iterative process is complete, then Variant A can be rolled out fully to all users."
   ]
  }
 ],
 "metadata": {
  "kernelspec": {
   "display_name": "Python 3",
   "language": "python",
   "name": "python3"
  },
  "language_info": {
   "codemirror_mode": {
    "name": "ipython",
    "version": 3
   },
   "file_extension": ".py",
   "mimetype": "text/x-python",
   "name": "python",
   "nbconvert_exporter": "python",
   "pygments_lexer": "ipython3",
   "version": "3.11.3"
  },
  "orig_nbformat": 4
 },
 "nbformat": 4,
 "nbformat_minor": 2
}
